{
 "cells": [
  {
   "cell_type": "code",
   "execution_count": 13,
   "metadata": {},
   "outputs": [],
   "source": [
    "import numpy as np\n",
    "import cvxpy as cp\n",
    "import json\n",
    "from matplotlib import pyplot as plt "
   ]
  },
  {
   "cell_type": "code",
   "execution_count": 2,
   "metadata": {},
   "outputs": [],
   "source": [
    "def nearestPointsOnCurve(X, P, M, W):\n",
    "\t# t = 0:0.0001:1\n",
    "\tt = np.array(range(0,10001,1))/10000\n",
    "\t# print(np.ones((len(t))).shape)\n",
    "\t# print(t.shape)\n",
    "\tZ = np.c_[np.ones((len(t))),t,np.square(t),np.power(t,3)]\n",
    "\tZ = Z.T\n",
    "\t# Z = np.array([np.ones((1,len(t))), t, np.square(t), np.pow(t,3)]).reshape((-1,1))\n",
    "\t# print(P.shape)\n",
    "\t# print(M.shape)\n",
    "\t# print(Z.shape)\n",
    "\tbzc = np.dot(np.dot(P,M),Z)\n",
    "\t# print(X)\n",
    "\t# print(bzc.shape[1])\n",
    "\tdistsq = np.zeros((len(t),X.shape[1]))\n",
    "\tfor i in range(X.shape[0]):\n",
    "\t\tidelta = np.zeros((bzc.shape[1],X.shape[1]))\n",
    "\t\tfor a in range(bzc.shape[1]):\n",
    "\t\t\tfor b in range(X.shape[1]):\n",
    "\t\t\t\tidelta[a,b] = bzc[i,a] - X[i,b]\n",
    "\t\t# idelta = np.subtract(np.repeat(bzc[i,:].T, X.shape[1],axis=1),np.repeat(X[i,:],bzc.shape[1]))\n",
    "\t\tdistsq = distsq + W[i] * np.square(idelta)\n",
    "\t# print(distsq.shape)\n",
    "\tk = np.argmin(distsq,axis=0)\n",
    "\t# k = np.where(distsq==dists)\n",
    "\t# print(k.shape)\n",
    "\ts=[]\n",
    "\tmsedist = 0.0\n",
    "\tpc = []\n",
    "\tfor i in range(len(k)):\n",
    "\t\tr = k[i]\n",
    "\t\ts.append(t[r])\n",
    "\t\tmsedist = msedist + distsq[r,i]\n",
    "\t\tpc.append(bzc[:,r])\n",
    "\ts=np.array(s)\n",
    "\t# print(s)\n",
    "\tpc = np.array(pc).T\n",
    "\n",
    "\t# pc = bzc[:,k].T\n",
    "\t# s = t[k]\n",
    "\t# msedist = np.sum(dists)\n",
    "\treturn [msedist, pc, s]"
   ]
  },
  {
   "cell_type": "code",
   "execution_count": 3,
   "metadata": {},
   "outputs": [],
   "source": [
    "def PCA_ranking(X,alpha,W,AttriNum,M):\n",
    "\t[mse, Pt, St, optFlag] = PCAlgorithm(X,alpha,W,AttriNum,M)\n",
    "\twhile optFlag==0:\n",
    "\t\tprint('re-sorting')\n",
    "\t\t[mse, Pt, St, optFlag] = PCAlgorithm(X,alpha,W,AttriNum,M)\n",
    "\treturn [mse, Pt, St]\n",
    "\n",
    "def PCAlgorithm(X,alpha,W,AttriNum,M):\n",
    "\n",
    "\toptFlag = 1\n",
    "\tP00 = 0.5*(1 - alpha)\n",
    "\tP03 = 0.5*(1 + alpha)\n",
    "\tPt = np.c_[P00, np.random.rand((AttriNum)), np.random.rand((AttriNum)), P03]\n",
    "\t# print(Pt.shape)\n",
    "\t[lastmse, temp, St] = nearestPointsOnCurve(X, Pt, M,W);\n",
    "\tdeltaM = 10000\n",
    "\n",
    "\twhile deltaM > 0.00001:\n",
    "\t\tZt = np.c_[np.ones((X.shape[1])), St, np.square(St), np.power(St,3)]\n",
    "\t\t# print(Zt.shape)\n",
    "\t\t# print(M.T.shape)\n",
    "\n",
    "\t\tp = cp.Variable((4,AttriNum))\n",
    "\t\t# print(np.dot(Zt,M.T).shape)\n",
    "\t\t# print(np.dot(np.dot(Zt,M.T),p).shape)\n",
    "\t\tA = np.dot(Zt,M.T)\n",
    "\t\tobjective = cp.Minimize(sum((A@p-X.T)**2@W))\n",
    "\t\tconstraints = [0 <= p, p <= 1,np.array([1,0,0,0])@p==P00.T,np.array([0,0,0,1])@p==P03.T]\n",
    "\t\tprob = cp.Problem(objective, constraints)\n",
    "\t\tresult = prob.solve()\n",
    "\n",
    "\t\t# Pt = getControlPoints(Zt, M, X, P00, P03, W,attriNum);\n",
    "\t\tPt = p.value.T\n",
    "\t\t# print(Pt)\n",
    "\t\t[mse, temp, St] = nearestPointsOnCurve(X, Pt, M, W);\n",
    "\t\tdeltaM =  lastmse - mse;\n",
    "\t\tif deltaM<0:\n",
    "\t\t\toptFlag = 0\n",
    "\t\t\tbreak\n",
    "\t\tlastmse = mse\n",
    "\treturn [mse, Pt, St,optFlag]\n"
   ]
  },
  {
   "cell_type": "code",
   "execution_count": 33,
   "metadata": {},
   "outputs": [],
   "source": [
    "def plot_curves(s,X,AttriNum,weights):\n",
    "    s_sorted = np.sort(s)\n",
    "    indices = np.argsort(s)\n",
    "    print(indices)\n",
    "    curves = [];\n",
    "    AttrName = [];\n",
    "\n",
    "    for i in range(AttriNum):\n",
    "        a = X[i,:]\n",
    "        a = a[indices]\n",
    "        p, = plt.plot(a)\n",
    "        curves.append(p)\n",
    "        AttrName.append(\"Attribution \"+str(i+1)+\" (weight: \"+ str(weights[i])+\")\")\n",
    "\n",
    "    p0, = plt.plot(s_sorted)\n",
    "\n",
    "    legend = plt.legend([p0]+curves,[\"Cubic Bezier Curve\"]+AttrName)\n",
    "\n",
    "    plt.show()"
   ]
  },
  {
   "cell_type": "code",
   "execution_count": 24,
   "metadata": {},
   "outputs": [],
   "source": [
    "def main(u,AttriNum,weights,plot):\n",
    "\tif(len(weights)!=AttriNum):\n",
    "\t\tprint(\"The number of weights should be consistent with the the number of attributions.\")\n",
    "\t\texit()\n",
    "\n",
    "\tcoeff = np.array([-0.7])\n",
    "\tn = 20\n",
    "\tW = np.array(weights).T\n",
    "\t\n",
    "\tM = np.array([[1,-3,3,-1],[0, 3, -6, 3],[0, 0, 3, -3],[0, 0, 0, 1]])\n",
    "\n",
    "\t# random2dAttrbuteValues(coeff,n)\n",
    "\t# [u, temp] = rv.random2dAttributeValues(coeff, n);\n",
    "# \tu = np.random.random((AttriNum,20))\n",
    "\t# X = u.reshape((-1,1))\n",
    "\tX = u\n",
    "\n",
    "\talpha = np.array([1]*AttriNum).T\n",
    "\tif(coeff<0):\n",
    "\t\talpha[1]=-1\n",
    "\n",
    "\t[temp, controlPoints, score] = PCA_ranking(X,alpha,W,AttriNum,M)\n",
    "\n",
    "\t[temp, pc, s] = nearestPointsOnCurve(X, controlPoints, M, W);\n",
    "\n",
    "\tif(plot==True):\n",
    "\t\tplot_curves(s,X,AttriNum,weights)\n"
   ]
  },
  {
   "cell_type": "code",
   "execution_count": 34,
   "metadata": {},
   "outputs": [
    {
     "name": "stdout",
     "output_type": "stream",
     "text": [
      "[18  3  9 12 15  6 10  8 13  4  7 17  0  1 19 14  5  2 16 11]\n"
     ]
    },
    {
     "data": {
      "image/png": "[encoded data removed]",
      "text/plain": [
       "<Figure size 432x288 with 1 Axes>"
      ]
     },
     "metadata": {
      "needs_background": "light"
     },
     "output_type": "display_data"
    }
   ],
   "source": [
    "with open(\"products.json\",'r') as load_f:\n",
    "    products = json.load(load_f)['products']\n",
    "    AttriNum = len(products['1']['attributions'])\n",
    "    attrs = []\n",
    "    for i in range(AttriNum):\n",
    "        attr = []\n",
    "        for j in products:\n",
    "            attr.append(products[j]['attributions'][i])\n",
    "        attrs.append(attr)\n",
    "        \n",
    "main(np.array(attrs),AttriNum,[0.5,0.5],True)"
   ]
  },
  {
   "cell_type": "code",
   "execution_count": null,
   "metadata": {},
   "outputs": [],
   "source": []
  }
 ],
 "metadata": {
  "kernelspec": {
   "display_name": "Python 3",
   "language": "python",
   "name": "python3"
  },
  "language_info": {
   "codemirror_mode": {
    "name": "ipython",
    "version": 3
   },
   "file_extension": ".py",
   "mimetype": "text/x-python",
   "name": "python",
   "nbconvert_exporter": "python",
   "pygments_lexer": "ipython3",
   "version": "3.6.3"
  }
 },
 "nbformat": 4,
 "nbformat_minor": 2
}
